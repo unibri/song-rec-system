{
 "cells": [
  {
   "cell_type": "markdown",
   "metadata": {},
   "source": [
    "# Building (A Simple) Song Recommender System\n",
    "By Briant Illescas <br>\n",
    "Using a subset of this data set: http://millionsongdataset.com/ <br>\n",
    "Goal: To give recommendations based on a title of a song"
   ]
  },
  {
   "cell_type": "markdown",
   "metadata": {},
   "source": [
    "# An Exploration of the Data"
   ]
  },
  {
   "cell_type": "code",
   "execution_count": 1,
   "metadata": {},
   "outputs": [],
   "source": [
    "import numpy as np\n",
    "import pandas as pd\n",
    "\n",
    "triplets = 'https://static.turi.com/datasets/millionsong/10000.txt'\n",
    "song_data = 'https://static.turi.com/datasets/millionsong/song_data.csv'"
   ]
  },
  {
   "cell_type": "code",
   "execution_count": 2,
   "metadata": {},
   "outputs": [],
   "source": [
    "songs_columns = ['user_id', 'song_id', 'listen_count']\n",
    "songs_df = pd.read_table(triplets)\n",
    "songs_df.columns = songs_columns"
   ]
  },
  {
   "cell_type": "code",
   "execution_count": 3,
   "metadata": {},
   "outputs": [],
   "source": [
    "data_df = pd.read_csv(song_data)"
   ]
  },
  {
   "cell_type": "code",
   "execution_count": 4,
   "metadata": {},
   "outputs": [
    {
     "data": {
      "text/html": [
       "<div>\n",
       "<style scoped>\n",
       "    .dataframe tbody tr th:only-of-type {\n",
       "        vertical-align: middle;\n",
       "    }\n",
       "\n",
       "    .dataframe tbody tr th {\n",
       "        vertical-align: top;\n",
       "    }\n",
       "\n",
       "    .dataframe thead th {\n",
       "        text-align: right;\n",
       "    }\n",
       "</style>\n",
       "<table border=\"1\" class=\"dataframe\">\n",
       "  <thead>\n",
       "    <tr style=\"text-align: right;\">\n",
       "      <th></th>\n",
       "      <th>user_id</th>\n",
       "      <th>song_id</th>\n",
       "      <th>listen_count</th>\n",
       "    </tr>\n",
       "  </thead>\n",
       "  <tbody>\n",
       "    <tr>\n",
       "      <th>0</th>\n",
       "      <td>b80344d063b5ccb3212f76538f3d9e43d87dca9e</td>\n",
       "      <td>SOBBMDR12A8C13253B</td>\n",
       "      <td>2</td>\n",
       "    </tr>\n",
       "    <tr>\n",
       "      <th>1</th>\n",
       "      <td>b80344d063b5ccb3212f76538f3d9e43d87dca9e</td>\n",
       "      <td>SOBXHDL12A81C204C0</td>\n",
       "      <td>1</td>\n",
       "    </tr>\n",
       "    <tr>\n",
       "      <th>2</th>\n",
       "      <td>b80344d063b5ccb3212f76538f3d9e43d87dca9e</td>\n",
       "      <td>SOBYHAJ12A6701BF1D</td>\n",
       "      <td>1</td>\n",
       "    </tr>\n",
       "    <tr>\n",
       "      <th>3</th>\n",
       "      <td>b80344d063b5ccb3212f76538f3d9e43d87dca9e</td>\n",
       "      <td>SODACBL12A8C13C273</td>\n",
       "      <td>1</td>\n",
       "    </tr>\n",
       "    <tr>\n",
       "      <th>4</th>\n",
       "      <td>b80344d063b5ccb3212f76538f3d9e43d87dca9e</td>\n",
       "      <td>SODDNQT12A6D4F5F7E</td>\n",
       "      <td>5</td>\n",
       "    </tr>\n",
       "  </tbody>\n",
       "</table>\n",
       "</div>"
      ],
      "text/plain": [
       "                                    user_id             song_id  listen_count\n",
       "0  b80344d063b5ccb3212f76538f3d9e43d87dca9e  SOBBMDR12A8C13253B             2\n",
       "1  b80344d063b5ccb3212f76538f3d9e43d87dca9e  SOBXHDL12A81C204C0             1\n",
       "2  b80344d063b5ccb3212f76538f3d9e43d87dca9e  SOBYHAJ12A6701BF1D             1\n",
       "3  b80344d063b5ccb3212f76538f3d9e43d87dca9e  SODACBL12A8C13C273             1\n",
       "4  b80344d063b5ccb3212f76538f3d9e43d87dca9e  SODDNQT12A6D4F5F7E             5"
      ]
     },
     "execution_count": 4,
     "metadata": {},
     "output_type": "execute_result"
    }
   ],
   "source": [
    "songs_df.head()"
   ]
  },
  {
   "cell_type": "code",
   "execution_count": 5,
   "metadata": {},
   "outputs": [
    {
     "name": "stdout",
     "output_type": "stream",
     "text": [
      "<class 'pandas.core.frame.DataFrame'>\n",
      "RangeIndex: 1999999 entries, 0 to 1999998\n",
      "Data columns (total 3 columns):\n",
      "user_id         object\n",
      "song_id         object\n",
      "listen_count    int64\n",
      "dtypes: int64(1), object(2)\n",
      "memory usage: 45.8+ MB\n"
     ]
    }
   ],
   "source": [
    "songs_df.info()"
   ]
  },
  {
   "cell_type": "code",
   "execution_count": 6,
   "metadata": {},
   "outputs": [
    {
     "data": {
      "text/html": [
       "<div>\n",
       "<style scoped>\n",
       "    .dataframe tbody tr th:only-of-type {\n",
       "        vertical-align: middle;\n",
       "    }\n",
       "\n",
       "    .dataframe tbody tr th {\n",
       "        vertical-align: top;\n",
       "    }\n",
       "\n",
       "    .dataframe thead th {\n",
       "        text-align: right;\n",
       "    }\n",
       "</style>\n",
       "<table border=\"1\" class=\"dataframe\">\n",
       "  <thead>\n",
       "    <tr style=\"text-align: right;\">\n",
       "      <th></th>\n",
       "      <th>song_id</th>\n",
       "      <th>title</th>\n",
       "      <th>release</th>\n",
       "      <th>artist_name</th>\n",
       "      <th>year</th>\n",
       "    </tr>\n",
       "  </thead>\n",
       "  <tbody>\n",
       "    <tr>\n",
       "      <th>0</th>\n",
       "      <td>SOQMMHC12AB0180CB8</td>\n",
       "      <td>Silent Night</td>\n",
       "      <td>Monster Ballads X-Mas</td>\n",
       "      <td>Faster Pussy cat</td>\n",
       "      <td>2003</td>\n",
       "    </tr>\n",
       "    <tr>\n",
       "      <th>1</th>\n",
       "      <td>SOVFVAK12A8C1350D9</td>\n",
       "      <td>Tanssi vaan</td>\n",
       "      <td>Karkuteillä</td>\n",
       "      <td>Karkkiautomaatti</td>\n",
       "      <td>1995</td>\n",
       "    </tr>\n",
       "    <tr>\n",
       "      <th>2</th>\n",
       "      <td>SOGTUKN12AB017F4F1</td>\n",
       "      <td>No One Could Ever</td>\n",
       "      <td>Butter</td>\n",
       "      <td>Hudson Mohawke</td>\n",
       "      <td>2006</td>\n",
       "    </tr>\n",
       "    <tr>\n",
       "      <th>3</th>\n",
       "      <td>SOBNYVR12A8C13558C</td>\n",
       "      <td>Si Vos Querés</td>\n",
       "      <td>De Culo</td>\n",
       "      <td>Yerba Brava</td>\n",
       "      <td>2003</td>\n",
       "    </tr>\n",
       "    <tr>\n",
       "      <th>4</th>\n",
       "      <td>SOHSBXH12A8C13B0DF</td>\n",
       "      <td>Tangle Of Aspens</td>\n",
       "      <td>Rene Ablaze Presents Winter Sessions</td>\n",
       "      <td>Der Mystic</td>\n",
       "      <td>0</td>\n",
       "    </tr>\n",
       "  </tbody>\n",
       "</table>\n",
       "</div>"
      ],
      "text/plain": [
       "              song_id              title  \\\n",
       "0  SOQMMHC12AB0180CB8       Silent Night   \n",
       "1  SOVFVAK12A8C1350D9        Tanssi vaan   \n",
       "2  SOGTUKN12AB017F4F1  No One Could Ever   \n",
       "3  SOBNYVR12A8C13558C      Si Vos Querés   \n",
       "4  SOHSBXH12A8C13B0DF   Tangle Of Aspens   \n",
       "\n",
       "                                release       artist_name  year  \n",
       "0                 Monster Ballads X-Mas  Faster Pussy cat  2003  \n",
       "1                           Karkuteillä  Karkkiautomaatti  1995  \n",
       "2                                Butter    Hudson Mohawke  2006  \n",
       "3                               De Culo       Yerba Brava  2003  \n",
       "4  Rene Ablaze Presents Winter Sessions        Der Mystic     0  "
      ]
     },
     "execution_count": 6,
     "metadata": {},
     "output_type": "execute_result"
    }
   ],
   "source": [
    "data_df.head()"
   ]
  },
  {
   "cell_type": "code",
   "execution_count": 7,
   "metadata": {},
   "outputs": [],
   "source": [
    "songs_df = pd.merge(songs_df, data_df, on='song_id')"
   ]
  },
  {
   "cell_type": "code",
   "execution_count": 8,
   "metadata": {},
   "outputs": [
    {
     "data": {
      "text/html": [
       "<div>\n",
       "<style scoped>\n",
       "    .dataframe tbody tr th:only-of-type {\n",
       "        vertical-align: middle;\n",
       "    }\n",
       "\n",
       "    .dataframe tbody tr th {\n",
       "        vertical-align: top;\n",
       "    }\n",
       "\n",
       "    .dataframe thead th {\n",
       "        text-align: right;\n",
       "    }\n",
       "</style>\n",
       "<table border=\"1\" class=\"dataframe\">\n",
       "  <thead>\n",
       "    <tr style=\"text-align: right;\">\n",
       "      <th></th>\n",
       "      <th>user_id</th>\n",
       "      <th>song_id</th>\n",
       "      <th>listen_count</th>\n",
       "      <th>title</th>\n",
       "      <th>release</th>\n",
       "      <th>artist_name</th>\n",
       "      <th>year</th>\n",
       "    </tr>\n",
       "  </thead>\n",
       "  <tbody>\n",
       "    <tr>\n",
       "      <th>0</th>\n",
       "      <td>b80344d063b5ccb3212f76538f3d9e43d87dca9e</td>\n",
       "      <td>SOBBMDR12A8C13253B</td>\n",
       "      <td>2</td>\n",
       "      <td>Entre Dos Aguas</td>\n",
       "      <td>Flamenco Para Niños</td>\n",
       "      <td>Paco De Lucia</td>\n",
       "      <td>1976</td>\n",
       "    </tr>\n",
       "    <tr>\n",
       "      <th>1</th>\n",
       "      <td>930d2be6c85315d72cab9823ec0f7bfe7e477794</td>\n",
       "      <td>SOBBMDR12A8C13253B</td>\n",
       "      <td>1</td>\n",
       "      <td>Entre Dos Aguas</td>\n",
       "      <td>Flamenco Para Niños</td>\n",
       "      <td>Paco De Lucia</td>\n",
       "      <td>1976</td>\n",
       "    </tr>\n",
       "    <tr>\n",
       "      <th>2</th>\n",
       "      <td>41c12ce05f18b757d9257e5ad4f8303b4b8a8758</td>\n",
       "      <td>SOBBMDR12A8C13253B</td>\n",
       "      <td>66</td>\n",
       "      <td>Entre Dos Aguas</td>\n",
       "      <td>Flamenco Para Niños</td>\n",
       "      <td>Paco De Lucia</td>\n",
       "      <td>1976</td>\n",
       "    </tr>\n",
       "    <tr>\n",
       "      <th>3</th>\n",
       "      <td>f8611810514c93d57bb846aa0b5e0410d9730a14</td>\n",
       "      <td>SOBBMDR12A8C13253B</td>\n",
       "      <td>2</td>\n",
       "      <td>Entre Dos Aguas</td>\n",
       "      <td>Flamenco Para Niños</td>\n",
       "      <td>Paco De Lucia</td>\n",
       "      <td>1976</td>\n",
       "    </tr>\n",
       "    <tr>\n",
       "      <th>4</th>\n",
       "      <td>5968a59e582f434a223b3786cd51c9f4690b38d4</td>\n",
       "      <td>SOBBMDR12A8C13253B</td>\n",
       "      <td>6</td>\n",
       "      <td>Entre Dos Aguas</td>\n",
       "      <td>Flamenco Para Niños</td>\n",
       "      <td>Paco De Lucia</td>\n",
       "      <td>1976</td>\n",
       "    </tr>\n",
       "  </tbody>\n",
       "</table>\n",
       "</div>"
      ],
      "text/plain": [
       "                                    user_id             song_id  listen_count  \\\n",
       "0  b80344d063b5ccb3212f76538f3d9e43d87dca9e  SOBBMDR12A8C13253B             2   \n",
       "1  930d2be6c85315d72cab9823ec0f7bfe7e477794  SOBBMDR12A8C13253B             1   \n",
       "2  41c12ce05f18b757d9257e5ad4f8303b4b8a8758  SOBBMDR12A8C13253B            66   \n",
       "3  f8611810514c93d57bb846aa0b5e0410d9730a14  SOBBMDR12A8C13253B             2   \n",
       "4  5968a59e582f434a223b3786cd51c9f4690b38d4  SOBBMDR12A8C13253B             6   \n",
       "\n",
       "             title              release    artist_name  year  \n",
       "0  Entre Dos Aguas  Flamenco Para Niños  Paco De Lucia  1976  \n",
       "1  Entre Dos Aguas  Flamenco Para Niños  Paco De Lucia  1976  \n",
       "2  Entre Dos Aguas  Flamenco Para Niños  Paco De Lucia  1976  \n",
       "3  Entre Dos Aguas  Flamenco Para Niños  Paco De Lucia  1976  \n",
       "4  Entre Dos Aguas  Flamenco Para Niños  Paco De Lucia  1976  "
      ]
     },
     "execution_count": 8,
     "metadata": {},
     "output_type": "execute_result"
    }
   ],
   "source": [
    "songs_df.head()"
   ]
  },
  {
   "cell_type": "code",
   "execution_count": 9,
   "metadata": {},
   "outputs": [],
   "source": [
    "songs_df['song'] = songs_df['title'] + '-' + songs_df['artist_name']"
   ]
  },
  {
   "cell_type": "markdown",
   "metadata": {},
   "source": [
    "## Top 10 Songs by Unique Listens"
   ]
  },
  {
   "cell_type": "code",
   "execution_count": 10,
   "metadata": {},
   "outputs": [
    {
     "data": {
      "text/plain": [
       "song\n",
       "Sehr kosmisch-Harmonia                                                                                                                        8277\n",
       "Use Somebody-Kings Of Leon                                                                                                                    7952\n",
       "Undo-Björk                                                                                                                                    7032\n",
       "Dog Days Are Over (Radio Edit)-Florence + The Machine                                                                                         6949\n",
       "You're The One-Dwight Yoakam                                                                                                                  6412\n",
       "Revelry-Kings Of Leon                                                                                                                         6145\n",
       "Secrets-OneRepublic                                                                                                                           5841\n",
       "Yellow-Coldplay                                                                                                                               5658\n",
       "Somebody To Love-Justin Bieber                                                                                                                5546\n",
       "Horn Concerto No. 4 in E flat K495: II. Romance (Andante cantabile)-Barry Tuckwell/Academy of St Martin-in-the-Fields/Sir Neville Marriner    5385\n",
       "Name: listen_count, dtype: int64"
      ]
     },
     "execution_count": 10,
     "metadata": {},
     "output_type": "execute_result"
    }
   ],
   "source": [
    "songs_df.groupby('song')['listen_count'].count().sort_values(ascending=False).head(10)"
   ]
  },
  {
   "cell_type": "markdown",
   "metadata": {},
   "source": [
    "## Top 10 Songs by Total Listens"
   ]
  },
  {
   "cell_type": "code",
   "execution_count": 11,
   "metadata": {},
   "outputs": [
    {
     "data": {
      "text/plain": [
       "song\n",
       "You're The One-Dwight Yoakam                                                                                                                  54136\n",
       "Undo-Björk                                                                                                                                    49253\n",
       "Revelry-Kings Of Leon                                                                                                                         41418\n",
       "Horn Concerto No. 4 in E flat K495: II. Romance (Andante cantabile)-Barry Tuckwell/Academy of St Martin-in-the-Fields/Sir Neville Marriner    31153\n",
       "Sehr kosmisch-Harmonia                                                                                                                        31036\n",
       "Dog Days Are Over (Radio Edit)-Florence + The Machine                                                                                         26663\n",
       "Use Somebody-Kings Of Leon                                                                                                                    22140\n",
       "Secrets-OneRepublic                                                                                                                           22100\n",
       "Canada-Five Iron Frenzy                                                                                                                       21019\n",
       "Invalid-Tub Ring                                                                                                                              19645\n",
       "Name: listen_count, dtype: int64"
      ]
     },
     "execution_count": 11,
     "metadata": {},
     "output_type": "execute_result"
    }
   ],
   "source": [
    "songs_df.groupby('song')['listen_count'].sum().sort_values(ascending=False).head(10)"
   ]
  },
  {
   "cell_type": "markdown",
   "metadata": {},
   "source": [
    "## Top 10 Artists by Unique Listens"
   ]
  },
  {
   "cell_type": "code",
   "execution_count": 12,
   "metadata": {},
   "outputs": [
    {
     "data": {
      "text/plain": [
       "artist_name\n",
       "Coldplay                  32572\n",
       "Kings Of Leon             26169\n",
       "The Black Keys            19862\n",
       "Jack Johnson              19589\n",
       "Muse                      19282\n",
       "Florence + The Machine    18112\n",
       "The Killers               17039\n",
       "Justin Bieber             16732\n",
       "Radiohead                 15953\n",
       "Eminem                    15884\n",
       "Name: listen_count, dtype: int64"
      ]
     },
     "execution_count": 12,
     "metadata": {},
     "output_type": "execute_result"
    }
   ],
   "source": [
    "songs_df.groupby('artist_name')['listen_count'].count().sort_values(ascending=False).head(10)"
   ]
  },
  {
   "cell_type": "markdown",
   "metadata": {},
   "source": [
    "## Top 10 Artists by Total Listens"
   ]
  },
  {
   "cell_type": "code",
   "execution_count": 13,
   "metadata": {},
   "outputs": [
    {
     "data": {
      "text/plain": [
       "artist_name\n",
       "Kings Of Leon             86031\n",
       "Coldplay                  78540\n",
       "Florence + The Machine    60066\n",
       "Dwight Yoakam             54136\n",
       "Björk                     53814\n",
       "The Black Keys            52220\n",
       "Muse                      52136\n",
       "Justin Bieber             50376\n",
       "Jack Johnson              48486\n",
       "Eminem                    41754\n",
       "Name: listen_count, dtype: int64"
      ]
     },
     "execution_count": 13,
     "metadata": {},
     "output_type": "execute_result"
    }
   ],
   "source": [
    "songs_df.groupby('artist_name')['listen_count'].sum().sort_values(ascending=False).head(10)"
   ]
  },
  {
   "cell_type": "markdown",
   "metadata": {},
   "source": [
    "## Number of Unique Users and Songs"
   ]
  },
  {
   "cell_type": "code",
   "execution_count": 14,
   "metadata": {},
   "outputs": [
    {
     "data": {
      "text/plain": [
       "76353"
      ]
     },
     "execution_count": 14,
     "metadata": {},
     "output_type": "execute_result"
    }
   ],
   "source": [
    "users = songs_df['user_id'].unique()\n",
    "len(users)"
   ]
  },
  {
   "cell_type": "code",
   "execution_count": 15,
   "metadata": {},
   "outputs": [
    {
     "data": {
      "text/plain": [
       "9982"
      ]
     },
     "execution_count": 15,
     "metadata": {},
     "output_type": "execute_result"
    }
   ],
   "source": [
    "songs = songs_df['song'].unique()\n",
    "len(songs)"
   ]
  },
  {
   "cell_type": "markdown",
   "metadata": {},
   "source": [
    "## Lets Continue Cleaning the Data\n",
    "### NOTE: For this recommender system, we will be using only the first 600,000 songs\n",
    "### My poor computer could not handle 2 million entries"
   ]
  },
  {
   "cell_type": "code",
   "execution_count": 16,
   "metadata": {
    "scrolled": true
   },
   "outputs": [
    {
     "data": {
      "text/html": [
       "<div>\n",
       "<style scoped>\n",
       "    .dataframe tbody tr th:only-of-type {\n",
       "        vertical-align: middle;\n",
       "    }\n",
       "\n",
       "    .dataframe tbody tr th {\n",
       "        vertical-align: top;\n",
       "    }\n",
       "\n",
       "    .dataframe thead th {\n",
       "        text-align: right;\n",
       "    }\n",
       "</style>\n",
       "<table border=\"1\" class=\"dataframe\">\n",
       "  <thead>\n",
       "    <tr style=\"text-align: right;\">\n",
       "      <th></th>\n",
       "      <th>song</th>\n",
       "      <th>listen_count</th>\n",
       "      <th>avg listens</th>\n",
       "    </tr>\n",
       "  </thead>\n",
       "  <tbody>\n",
       "    <tr>\n",
       "      <th>1117</th>\n",
       "      <td>You're The One-Dwight Yoakam</td>\n",
       "      <td>54136</td>\n",
       "      <td>2.983578</td>\n",
       "    </tr>\n",
       "    <tr>\n",
       "      <th>1024</th>\n",
       "      <td>Undo-Björk</td>\n",
       "      <td>49253</td>\n",
       "      <td>2.714463</td>\n",
       "    </tr>\n",
       "    <tr>\n",
       "      <th>733</th>\n",
       "      <td>Revelry-Kings Of Leon</td>\n",
       "      <td>41418</td>\n",
       "      <td>2.282655</td>\n",
       "    </tr>\n",
       "    <tr>\n",
       "      <th>392</th>\n",
       "      <td>Horn Concerto No. 4 in E flat K495: II. Romanc...</td>\n",
       "      <td>31153</td>\n",
       "      <td>1.716924</td>\n",
       "    </tr>\n",
       "    <tr>\n",
       "      <th>773</th>\n",
       "      <td>Sehr kosmisch-Harmonia</td>\n",
       "      <td>31036</td>\n",
       "      <td>1.710476</td>\n",
       "    </tr>\n",
       "    <tr>\n",
       "      <th>220</th>\n",
       "      <td>Dog Days Are Over (Radio Edit)-Florence + The ...</td>\n",
       "      <td>26663</td>\n",
       "      <td>1.469468</td>\n",
       "    </tr>\n",
       "    <tr>\n",
       "      <th>1036</th>\n",
       "      <td>Use Somebody-Kings Of Leon</td>\n",
       "      <td>22140</td>\n",
       "      <td>1.220194</td>\n",
       "    </tr>\n",
       "    <tr>\n",
       "      <th>772</th>\n",
       "      <td>Secrets-OneRepublic</td>\n",
       "      <td>22100</td>\n",
       "      <td>1.217989</td>\n",
       "    </tr>\n",
       "    <tr>\n",
       "      <th>25</th>\n",
       "      <td>Ain't Misbehavin-Sam Cooke</td>\n",
       "      <td>18309</td>\n",
       "      <td>1.009057</td>\n",
       "    </tr>\n",
       "    <tr>\n",
       "      <th>156</th>\n",
       "      <td>Catch You Baby (Steve Pitron &amp; Max Sanna Radio...</td>\n",
       "      <td>18041</td>\n",
       "      <td>0.994287</td>\n",
       "    </tr>\n",
       "  </tbody>\n",
       "</table>\n",
       "</div>"
      ],
      "text/plain": [
       "                                                   song  listen_count  \\\n",
       "1117                       You're The One-Dwight Yoakam         54136   \n",
       "1024                                         Undo-Björk         49253   \n",
       "733                               Revelry-Kings Of Leon         41418   \n",
       "392   Horn Concerto No. 4 in E flat K495: II. Romanc...         31153   \n",
       "773                              Sehr kosmisch-Harmonia         31036   \n",
       "220   Dog Days Are Over (Radio Edit)-Florence + The ...         26663   \n",
       "1036                         Use Somebody-Kings Of Leon         22140   \n",
       "772                                 Secrets-OneRepublic         22100   \n",
       "25                           Ain't Misbehavin-Sam Cooke         18309   \n",
       "156   Catch You Baby (Steve Pitron & Max Sanna Radio...         18041   \n",
       "\n",
       "      avg listens  \n",
       "1117     2.983578  \n",
       "1024     2.714463  \n",
       "733      2.282655  \n",
       "392      1.716924  \n",
       "773      1.710476  \n",
       "220      1.469468  \n",
       "1036     1.220194  \n",
       "772      1.217989  \n",
       "25       1.009057  \n",
       "156      0.994287  "
      ]
     },
     "execution_count": 16,
     "metadata": {},
     "output_type": "execute_result"
    }
   ],
   "source": [
    "sm_songs_df = songs_df[0:599999]\n",
    "\n",
    "song_grouped = sm_songs_df.groupby(['song']).agg({'listen_count': 'sum'}).reset_index()\n",
    "total_count= song_grouped['listen_count'].sum()\n",
    "song_grouped['avg listens']  = song_grouped['listen_count'].div(total_count)*100\n",
    "song_grouped.sort_values(['listen_count', 'song'], ascending=False).head(10)"
   ]
  },
  {
   "cell_type": "code",
   "execution_count": 17,
   "metadata": {},
   "outputs": [],
   "source": [
    "import seaborn as sns\n",
    "import matplotlib.pyplot as plt\n",
    "%matplotlib inline"
   ]
  },
  {
   "cell_type": "code",
   "execution_count": 18,
   "metadata": {},
   "outputs": [
    {
     "name": "stderr",
     "output_type": "stream",
     "text": [
      "C:\\Users\\brian\\Anaconda3\\lib\\site-packages\\scipy\\stats\\stats.py:1713: FutureWarning: Using a non-tuple sequence for multidimensional indexing is deprecated; use `arr[tuple(seq)]` instead of `arr[seq]`. In the future this will be interpreted as an array index, `arr[np.array(seq)]`, which will result either in an error or a different result.\n",
      "  return np.add.reduce(sorted[indexer] * weights, axis=axis) / sumval\n"
     ]
    },
    {
     "data": {
      "text/plain": [
       "<seaborn.axisgrid.JointGrid at 0x1cc08a15e10>"
      ]
     },
     "execution_count": 18,
     "metadata": {},
     "output_type": "execute_result"
    },
    {
     "data": {
      "image/png": "[encoded data removed]",
      "text/plain": [
       "<Figure size 432x432 with 3 Axes>"
      ]
     },
     "metadata": {},
     "output_type": "display_data"
    }
   ],
   "source": [
    "# A joint plot of listen_count vs avg listens, very obvious but just exploring\n",
    "\n",
    "sns.set_style('white')\n",
    "sns.jointplot(x='avg listens',y='listen_count',data=song_grouped)"
   ]
  },
  {
   "cell_type": "code",
   "execution_count": 19,
   "metadata": {},
   "outputs": [
    {
     "data": {
      "text/plain": [
       "(0, 3000)"
      ]
     },
     "execution_count": 19,
     "metadata": {},
     "output_type": "execute_result"
    },
    {
     "data": {
      "image/png": "[encoded data removed]",
      "text/plain": [
       "<Figure size 720x288 with 1 Axes>"
      ]
     },
     "metadata": {},
     "output_type": "display_data"
    }
   ],
   "source": [
    "# Using this to filter out songs by X listens to create better recommendations \n",
    "plt.figure(figsize=(10,4))\n",
    "song_grouped['listen_count'].hist(bins=140)\n",
    "plt.xlim(0,3000)"
   ]
  },
  {
   "cell_type": "code",
   "execution_count": 20,
   "metadata": {},
   "outputs": [],
   "source": [
    "#Looking at the above graph, 1200 might be a good threshold"
   ]
  },
  {
   "cell_type": "code",
   "execution_count": 21,
   "metadata": {},
   "outputs": [
    {
     "data": {
      "text/html": [
       "<div>\n",
       "<style scoped>\n",
       "    .dataframe tbody tr th:only-of-type {\n",
       "        vertical-align: middle;\n",
       "    }\n",
       "\n",
       "    .dataframe tbody tr th {\n",
       "        vertical-align: top;\n",
       "    }\n",
       "\n",
       "    .dataframe thead th {\n",
       "        text-align: right;\n",
       "    }\n",
       "</style>\n",
       "<table border=\"1\" class=\"dataframe\">\n",
       "  <thead>\n",
       "    <tr style=\"text-align: right;\">\n",
       "      <th>song</th>\n",
       "      <th>&amp; Down-Boys Noize</th>\n",
       "      <th>'97 Bonnie &amp; Clyde-Eminem</th>\n",
       "      <th>'Round Midnight-Miles Davis</th>\n",
       "      <th>'Till I Collapse-Eminem / Nate Dogg</th>\n",
       "      <th>(Nice Dream)-Radiohead</th>\n",
       "      <th>(You Drive Me) Crazy (The Stop Remix!)-Britney Spears</th>\n",
       "      <th>16 Candles-The Crests</th>\n",
       "      <th>1983 (Daedelus's Odd-Dance Party Remix)-Flying Lotus</th>\n",
       "      <th>1983-Flying Lotus</th>\n",
       "      <th>3AM (LP Version)-matchbox twenty</th>\n",
       "      <th>...</th>\n",
       "      <th>Your Visits Are Getting Shorter-Bloc Party</th>\n",
       "      <th>ZDRLT (Rewind)-Digitalism</th>\n",
       "      <th>a joy-Four Tet</th>\n",
       "      <th>and then patterns-Four Tet</th>\n",
       "      <th>high fives-Four Tet</th>\n",
       "      <th>ný Batterý-Sigur Ros</th>\n",
       "      <th>re:stacks-Bon Iver</th>\n",
       "      <th>sleep_ eat food_ have visions-Four Tet</th>\n",
       "      <th>sun drums and soil-Four Tet</th>\n",
       "      <th>you were there with me-Four Tet</th>\n",
       "    </tr>\n",
       "    <tr>\n",
       "      <th>user_id</th>\n",
       "      <th></th>\n",
       "      <th></th>\n",
       "      <th></th>\n",
       "      <th></th>\n",
       "      <th></th>\n",
       "      <th></th>\n",
       "      <th></th>\n",
       "      <th></th>\n",
       "      <th></th>\n",
       "      <th></th>\n",
       "      <th></th>\n",
       "      <th></th>\n",
       "      <th></th>\n",
       "      <th></th>\n",
       "      <th></th>\n",
       "      <th></th>\n",
       "      <th></th>\n",
       "      <th></th>\n",
       "      <th></th>\n",
       "      <th></th>\n",
       "      <th></th>\n",
       "    </tr>\n",
       "  </thead>\n",
       "  <tbody>\n",
       "    <tr>\n",
       "      <th>00030033e3a2f904a48ec1dd53019c9969b6ef1f</th>\n",
       "      <td>NaN</td>\n",
       "      <td>NaN</td>\n",
       "      <td>NaN</td>\n",
       "      <td>NaN</td>\n",
       "      <td>NaN</td>\n",
       "      <td>NaN</td>\n",
       "      <td>NaN</td>\n",
       "      <td>NaN</td>\n",
       "      <td>NaN</td>\n",
       "      <td>NaN</td>\n",
       "      <td>...</td>\n",
       "      <td>NaN</td>\n",
       "      <td>NaN</td>\n",
       "      <td>NaN</td>\n",
       "      <td>NaN</td>\n",
       "      <td>NaN</td>\n",
       "      <td>NaN</td>\n",
       "      <td>NaN</td>\n",
       "      <td>NaN</td>\n",
       "      <td>NaN</td>\n",
       "      <td>NaN</td>\n",
       "    </tr>\n",
       "    <tr>\n",
       "      <th>0007c0e74728ca9ef0fe4eb7f75732e8026a278b</th>\n",
       "      <td>NaN</td>\n",
       "      <td>NaN</td>\n",
       "      <td>NaN</td>\n",
       "      <td>NaN</td>\n",
       "      <td>NaN</td>\n",
       "      <td>NaN</td>\n",
       "      <td>NaN</td>\n",
       "      <td>NaN</td>\n",
       "      <td>NaN</td>\n",
       "      <td>NaN</td>\n",
       "      <td>...</td>\n",
       "      <td>NaN</td>\n",
       "      <td>NaN</td>\n",
       "      <td>NaN</td>\n",
       "      <td>NaN</td>\n",
       "      <td>NaN</td>\n",
       "      <td>NaN</td>\n",
       "      <td>NaN</td>\n",
       "      <td>NaN</td>\n",
       "      <td>NaN</td>\n",
       "      <td>NaN</td>\n",
       "    </tr>\n",
       "    <tr>\n",
       "      <th>000b474f815bcff17a4bc9ce5324f9352dafe07d</th>\n",
       "      <td>NaN</td>\n",
       "      <td>NaN</td>\n",
       "      <td>NaN</td>\n",
       "      <td>NaN</td>\n",
       "      <td>NaN</td>\n",
       "      <td>NaN</td>\n",
       "      <td>NaN</td>\n",
       "      <td>NaN</td>\n",
       "      <td>NaN</td>\n",
       "      <td>NaN</td>\n",
       "      <td>...</td>\n",
       "      <td>NaN</td>\n",
       "      <td>NaN</td>\n",
       "      <td>NaN</td>\n",
       "      <td>NaN</td>\n",
       "      <td>NaN</td>\n",
       "      <td>NaN</td>\n",
       "      <td>NaN</td>\n",
       "      <td>NaN</td>\n",
       "      <td>NaN</td>\n",
       "      <td>NaN</td>\n",
       "    </tr>\n",
       "    <tr>\n",
       "      <th>000b4e4134d5f77d7608fbf86fb3e1adac4478a8</th>\n",
       "      <td>NaN</td>\n",
       "      <td>NaN</td>\n",
       "      <td>NaN</td>\n",
       "      <td>NaN</td>\n",
       "      <td>NaN</td>\n",
       "      <td>NaN</td>\n",
       "      <td>NaN</td>\n",
       "      <td>NaN</td>\n",
       "      <td>NaN</td>\n",
       "      <td>NaN</td>\n",
       "      <td>...</td>\n",
       "      <td>NaN</td>\n",
       "      <td>NaN</td>\n",
       "      <td>NaN</td>\n",
       "      <td>NaN</td>\n",
       "      <td>NaN</td>\n",
       "      <td>NaN</td>\n",
       "      <td>NaN</td>\n",
       "      <td>NaN</td>\n",
       "      <td>NaN</td>\n",
       "      <td>NaN</td>\n",
       "    </tr>\n",
       "    <tr>\n",
       "      <th>000d2df2cb8ad7300f89512f8fe8fadc4f99e733</th>\n",
       "      <td>NaN</td>\n",
       "      <td>NaN</td>\n",
       "      <td>NaN</td>\n",
       "      <td>NaN</td>\n",
       "      <td>NaN</td>\n",
       "      <td>NaN</td>\n",
       "      <td>NaN</td>\n",
       "      <td>NaN</td>\n",
       "      <td>NaN</td>\n",
       "      <td>NaN</td>\n",
       "      <td>...</td>\n",
       "      <td>NaN</td>\n",
       "      <td>NaN</td>\n",
       "      <td>NaN</td>\n",
       "      <td>NaN</td>\n",
       "      <td>NaN</td>\n",
       "      <td>NaN</td>\n",
       "      <td>NaN</td>\n",
       "      <td>NaN</td>\n",
       "      <td>NaN</td>\n",
       "      <td>NaN</td>\n",
       "    </tr>\n",
       "  </tbody>\n",
       "</table>\n",
       "<p>5 rows × 1133 columns</p>\n",
       "</div>"
      ],
      "text/plain": [
       "song                                      & Down-Boys Noize  \\\n",
       "user_id                                                       \n",
       "00030033e3a2f904a48ec1dd53019c9969b6ef1f                NaN   \n",
       "0007c0e74728ca9ef0fe4eb7f75732e8026a278b                NaN   \n",
       "000b474f815bcff17a4bc9ce5324f9352dafe07d                NaN   \n",
       "000b4e4134d5f77d7608fbf86fb3e1adac4478a8                NaN   \n",
       "000d2df2cb8ad7300f89512f8fe8fadc4f99e733                NaN   \n",
       "\n",
       "song                                      '97 Bonnie & Clyde-Eminem  \\\n",
       "user_id                                                               \n",
       "00030033e3a2f904a48ec1dd53019c9969b6ef1f                        NaN   \n",
       "0007c0e74728ca9ef0fe4eb7f75732e8026a278b                        NaN   \n",
       "000b474f815bcff17a4bc9ce5324f9352dafe07d                        NaN   \n",
       "000b4e4134d5f77d7608fbf86fb3e1adac4478a8                        NaN   \n",
       "000d2df2cb8ad7300f89512f8fe8fadc4f99e733                        NaN   \n",
       "\n",
       "song                                      'Round Midnight-Miles Davis  \\\n",
       "user_id                                                                 \n",
       "00030033e3a2f904a48ec1dd53019c9969b6ef1f                          NaN   \n",
       "0007c0e74728ca9ef0fe4eb7f75732e8026a278b                          NaN   \n",
       "000b474f815bcff17a4bc9ce5324f9352dafe07d                          NaN   \n",
       "000b4e4134d5f77d7608fbf86fb3e1adac4478a8                          NaN   \n",
       "000d2df2cb8ad7300f89512f8fe8fadc4f99e733                          NaN   \n",
       "\n",
       "song                                      'Till I Collapse-Eminem / Nate Dogg  \\\n",
       "user_id                                                                         \n",
       "00030033e3a2f904a48ec1dd53019c9969b6ef1f                                  NaN   \n",
       "0007c0e74728ca9ef0fe4eb7f75732e8026a278b                                  NaN   \n",
       "000b474f815bcff17a4bc9ce5324f9352dafe07d                                  NaN   \n",
       "000b4e4134d5f77d7608fbf86fb3e1adac4478a8                                  NaN   \n",
       "000d2df2cb8ad7300f89512f8fe8fadc4f99e733                                  NaN   \n",
       "\n",
       "song                                      (Nice Dream)-Radiohead  \\\n",
       "user_id                                                            \n",
       "00030033e3a2f904a48ec1dd53019c9969b6ef1f                     NaN   \n",
       "0007c0e74728ca9ef0fe4eb7f75732e8026a278b                     NaN   \n",
       "000b474f815bcff17a4bc9ce5324f9352dafe07d                     NaN   \n",
       "000b4e4134d5f77d7608fbf86fb3e1adac4478a8                     NaN   \n",
       "000d2df2cb8ad7300f89512f8fe8fadc4f99e733                     NaN   \n",
       "\n",
       "song                                      (You Drive Me) Crazy (The Stop Remix!)-Britney Spears  \\\n",
       "user_id                                                                                           \n",
       "00030033e3a2f904a48ec1dd53019c9969b6ef1f                                                NaN       \n",
       "0007c0e74728ca9ef0fe4eb7f75732e8026a278b                                                NaN       \n",
       "000b474f815bcff17a4bc9ce5324f9352dafe07d                                                NaN       \n",
       "000b4e4134d5f77d7608fbf86fb3e1adac4478a8                                                NaN       \n",
       "000d2df2cb8ad7300f89512f8fe8fadc4f99e733                                                NaN       \n",
       "\n",
       "song                                      16 Candles-The Crests  \\\n",
       "user_id                                                           \n",
       "00030033e3a2f904a48ec1dd53019c9969b6ef1f                    NaN   \n",
       "0007c0e74728ca9ef0fe4eb7f75732e8026a278b                    NaN   \n",
       "000b474f815bcff17a4bc9ce5324f9352dafe07d                    NaN   \n",
       "000b4e4134d5f77d7608fbf86fb3e1adac4478a8                    NaN   \n",
       "000d2df2cb8ad7300f89512f8fe8fadc4f99e733                    NaN   \n",
       "\n",
       "song                                      1983 (Daedelus's Odd-Dance Party Remix)-Flying Lotus  \\\n",
       "user_id                                                                                          \n",
       "00030033e3a2f904a48ec1dd53019c9969b6ef1f                                                NaN      \n",
       "0007c0e74728ca9ef0fe4eb7f75732e8026a278b                                                NaN      \n",
       "000b474f815bcff17a4bc9ce5324f9352dafe07d                                                NaN      \n",
       "000b4e4134d5f77d7608fbf86fb3e1adac4478a8                                                NaN      \n",
       "000d2df2cb8ad7300f89512f8fe8fadc4f99e733                                                NaN      \n",
       "\n",
       "song                                      1983-Flying Lotus  \\\n",
       "user_id                                                       \n",
       "00030033e3a2f904a48ec1dd53019c9969b6ef1f                NaN   \n",
       "0007c0e74728ca9ef0fe4eb7f75732e8026a278b                NaN   \n",
       "000b474f815bcff17a4bc9ce5324f9352dafe07d                NaN   \n",
       "000b4e4134d5f77d7608fbf86fb3e1adac4478a8                NaN   \n",
       "000d2df2cb8ad7300f89512f8fe8fadc4f99e733                NaN   \n",
       "\n",
       "song                                      3AM (LP Version)-matchbox twenty  \\\n",
       "user_id                                                                      \n",
       "00030033e3a2f904a48ec1dd53019c9969b6ef1f                               NaN   \n",
       "0007c0e74728ca9ef0fe4eb7f75732e8026a278b                               NaN   \n",
       "000b474f815bcff17a4bc9ce5324f9352dafe07d                               NaN   \n",
       "000b4e4134d5f77d7608fbf86fb3e1adac4478a8                               NaN   \n",
       "000d2df2cb8ad7300f89512f8fe8fadc4f99e733                               NaN   \n",
       "\n",
       "song                                                   ...                 \\\n",
       "user_id                                                ...                  \n",
       "00030033e3a2f904a48ec1dd53019c9969b6ef1f               ...                  \n",
       "0007c0e74728ca9ef0fe4eb7f75732e8026a278b               ...                  \n",
       "000b474f815bcff17a4bc9ce5324f9352dafe07d               ...                  \n",
       "000b4e4134d5f77d7608fbf86fb3e1adac4478a8               ...                  \n",
       "000d2df2cb8ad7300f89512f8fe8fadc4f99e733               ...                  \n",
       "\n",
       "song                                      Your Visits Are Getting Shorter-Bloc Party  \\\n",
       "user_id                                                                                \n",
       "00030033e3a2f904a48ec1dd53019c9969b6ef1f                                         NaN   \n",
       "0007c0e74728ca9ef0fe4eb7f75732e8026a278b                                         NaN   \n",
       "000b474f815bcff17a4bc9ce5324f9352dafe07d                                         NaN   \n",
       "000b4e4134d5f77d7608fbf86fb3e1adac4478a8                                         NaN   \n",
       "000d2df2cb8ad7300f89512f8fe8fadc4f99e733                                         NaN   \n",
       "\n",
       "song                                      ZDRLT (Rewind)-Digitalism  \\\n",
       "user_id                                                               \n",
       "00030033e3a2f904a48ec1dd53019c9969b6ef1f                        NaN   \n",
       "0007c0e74728ca9ef0fe4eb7f75732e8026a278b                        NaN   \n",
       "000b474f815bcff17a4bc9ce5324f9352dafe07d                        NaN   \n",
       "000b4e4134d5f77d7608fbf86fb3e1adac4478a8                        NaN   \n",
       "000d2df2cb8ad7300f89512f8fe8fadc4f99e733                        NaN   \n",
       "\n",
       "song                                      a joy-Four Tet  \\\n",
       "user_id                                                    \n",
       "00030033e3a2f904a48ec1dd53019c9969b6ef1f             NaN   \n",
       "0007c0e74728ca9ef0fe4eb7f75732e8026a278b             NaN   \n",
       "000b474f815bcff17a4bc9ce5324f9352dafe07d             NaN   \n",
       "000b4e4134d5f77d7608fbf86fb3e1adac4478a8             NaN   \n",
       "000d2df2cb8ad7300f89512f8fe8fadc4f99e733             NaN   \n",
       "\n",
       "song                                      and then patterns-Four Tet  \\\n",
       "user_id                                                                \n",
       "00030033e3a2f904a48ec1dd53019c9969b6ef1f                         NaN   \n",
       "0007c0e74728ca9ef0fe4eb7f75732e8026a278b                         NaN   \n",
       "000b474f815bcff17a4bc9ce5324f9352dafe07d                         NaN   \n",
       "000b4e4134d5f77d7608fbf86fb3e1adac4478a8                         NaN   \n",
       "000d2df2cb8ad7300f89512f8fe8fadc4f99e733                         NaN   \n",
       "\n",
       "song                                      high fives-Four Tet  \\\n",
       "user_id                                                         \n",
       "00030033e3a2f904a48ec1dd53019c9969b6ef1f                  NaN   \n",
       "0007c0e74728ca9ef0fe4eb7f75732e8026a278b                  NaN   \n",
       "000b474f815bcff17a4bc9ce5324f9352dafe07d                  NaN   \n",
       "000b4e4134d5f77d7608fbf86fb3e1adac4478a8                  NaN   \n",
       "000d2df2cb8ad7300f89512f8fe8fadc4f99e733                  NaN   \n",
       "\n",
       "song                                      ný Batterý-Sigur Ros  \\\n",
       "user_id                                                          \n",
       "00030033e3a2f904a48ec1dd53019c9969b6ef1f                   NaN   \n",
       "0007c0e74728ca9ef0fe4eb7f75732e8026a278b                   NaN   \n",
       "000b474f815bcff17a4bc9ce5324f9352dafe07d                   NaN   \n",
       "000b4e4134d5f77d7608fbf86fb3e1adac4478a8                   NaN   \n",
       "000d2df2cb8ad7300f89512f8fe8fadc4f99e733                   NaN   \n",
       "\n",
       "song                                      re:stacks-Bon Iver  \\\n",
       "user_id                                                        \n",
       "00030033e3a2f904a48ec1dd53019c9969b6ef1f                 NaN   \n",
       "0007c0e74728ca9ef0fe4eb7f75732e8026a278b                 NaN   \n",
       "000b474f815bcff17a4bc9ce5324f9352dafe07d                 NaN   \n",
       "000b4e4134d5f77d7608fbf86fb3e1adac4478a8                 NaN   \n",
       "000d2df2cb8ad7300f89512f8fe8fadc4f99e733                 NaN   \n",
       "\n",
       "song                                      sleep_ eat food_ have visions-Four Tet  \\\n",
       "user_id                                                                            \n",
       "00030033e3a2f904a48ec1dd53019c9969b6ef1f                                     NaN   \n",
       "0007c0e74728ca9ef0fe4eb7f75732e8026a278b                                     NaN   \n",
       "000b474f815bcff17a4bc9ce5324f9352dafe07d                                     NaN   \n",
       "000b4e4134d5f77d7608fbf86fb3e1adac4478a8                                     NaN   \n",
       "000d2df2cb8ad7300f89512f8fe8fadc4f99e733                                     NaN   \n",
       "\n",
       "song                                      sun drums and soil-Four Tet  \\\n",
       "user_id                                                                 \n",
       "00030033e3a2f904a48ec1dd53019c9969b6ef1f                          NaN   \n",
       "0007c0e74728ca9ef0fe4eb7f75732e8026a278b                          NaN   \n",
       "000b474f815bcff17a4bc9ce5324f9352dafe07d                          NaN   \n",
       "000b4e4134d5f77d7608fbf86fb3e1adac4478a8                          NaN   \n",
       "000d2df2cb8ad7300f89512f8fe8fadc4f99e733                          NaN   \n",
       "\n",
       "song                                      you were there with me-Four Tet  \n",
       "user_id                                                                    \n",
       "00030033e3a2f904a48ec1dd53019c9969b6ef1f                              NaN  \n",
       "0007c0e74728ca9ef0fe4eb7f75732e8026a278b                              NaN  \n",
       "000b474f815bcff17a4bc9ce5324f9352dafe07d                              NaN  \n",
       "000b4e4134d5f77d7608fbf86fb3e1adac4478a8                              NaN  \n",
       "000d2df2cb8ad7300f89512f8fe8fadc4f99e733                              NaN  \n",
       "\n",
       "[5 rows x 1133 columns]"
      ]
     },
     "execution_count": 21,
     "metadata": {},
     "output_type": "execute_result"
    }
   ],
   "source": [
    "songmat = sm_songs_df.pivot_table(index='user_id',columns='song',values='listen_count')\n",
    "songmat.head()"
   ]
  },
  {
   "cell_type": "markdown",
   "metadata": {},
   "source": [
    "## Lets give recs some song recs! \t"
   ]
  },
  {
   "cell_type": "code",
   "execution_count": 22,
   "metadata": {},
   "outputs": [],
   "source": [
    "song_title = 'When You Were Young-The Killers' #used this to type in any song, i love The Killers so...lets go with that\n",
    "bjork = songmat[song_title]"
   ]
  },
  {
   "cell_type": "code",
   "execution_count": 23,
   "metadata": {},
   "outputs": [
    {
     "name": "stderr",
     "output_type": "stream",
     "text": [
      "C:\\Users\\brian\\Anaconda3\\lib\\site-packages\\numpy\\lib\\function_base.py:2392: RuntimeWarning: Degrees of freedom <= 0 for slice\n",
      "  c = cov(x, y, rowvar)\n",
      "C:\\Users\\brian\\Anaconda3\\lib\\site-packages\\numpy\\lib\\function_base.py:2326: RuntimeWarning: divide by zero encountered in true_divide\n",
      "  c *= np.true_divide(1, fact)\n"
     ]
    }
   ],
   "source": [
    "similar = songmat.corrwith(bjork)\n",
    "similar.dropna(inplace=True)\n",
    "recs = pd.DataFrame(similar, columns=['Correlation'])"
   ]
  },
  {
   "cell_type": "code",
   "execution_count": 24,
   "metadata": {},
   "outputs": [],
   "source": [
    "recs = recs.merge(song_grouped.drop('avg listens', axis=1), on='song')"
   ]
  },
  {
   "cell_type": "code",
   "execution_count": 25,
   "metadata": {},
   "outputs": [
    {
     "data": {
      "text/html": [
       "<div>\n",
       "<style scoped>\n",
       "    .dataframe tbody tr th:only-of-type {\n",
       "        vertical-align: middle;\n",
       "    }\n",
       "\n",
       "    .dataframe tbody tr th {\n",
       "        vertical-align: top;\n",
       "    }\n",
       "\n",
       "    .dataframe thead th {\n",
       "        text-align: right;\n",
       "    }\n",
       "</style>\n",
       "<table border=\"1\" class=\"dataframe\">\n",
       "  <thead>\n",
       "    <tr style=\"text-align: right;\">\n",
       "      <th></th>\n",
       "      <th>song</th>\n",
       "      <th>Correlation</th>\n",
       "      <th>listen_count</th>\n",
       "    </tr>\n",
       "  </thead>\n",
       "  <tbody>\n",
       "    <tr>\n",
       "      <th>955</th>\n",
       "      <td>When You Were Young-The Killers</td>\n",
       "      <td>1.000000</td>\n",
       "      <td>5839</td>\n",
       "    </tr>\n",
       "    <tr>\n",
       "      <th>420</th>\n",
       "      <td>Is This It-The Strokes</td>\n",
       "      <td>0.912575</td>\n",
       "      <td>2548</td>\n",
       "    </tr>\n",
       "    <tr>\n",
       "      <th>857</th>\n",
       "      <td>The Unforgiven III-Metallica</td>\n",
       "      <td>0.905921</td>\n",
       "      <td>1802</td>\n",
       "    </tr>\n",
       "    <tr>\n",
       "      <th>852</th>\n",
       "      <td>The Saltwater Room-Owl City</td>\n",
       "      <td>0.853997</td>\n",
       "      <td>1417</td>\n",
       "    </tr>\n",
       "    <tr>\n",
       "      <th>655</th>\n",
       "      <td>Replay-Iyaz</td>\n",
       "      <td>0.827520</td>\n",
       "      <td>1746</td>\n",
       "    </tr>\n",
       "    <tr>\n",
       "      <th>56</th>\n",
       "      <td>Apologize-OneRepublic</td>\n",
       "      <td>0.826360</td>\n",
       "      <td>2505</td>\n",
       "    </tr>\n",
       "    <tr>\n",
       "      <th>96</th>\n",
       "      <td>Blow Me Away-Breaking Benjamin</td>\n",
       "      <td>0.808063</td>\n",
       "      <td>1416</td>\n",
       "    </tr>\n",
       "    <tr>\n",
       "      <th>262</th>\n",
       "      <td>Flume-Bon Iver</td>\n",
       "      <td>0.787736</td>\n",
       "      <td>1758</td>\n",
       "    </tr>\n",
       "    <tr>\n",
       "      <th>982</th>\n",
       "      <td>You Know I'm No Good-Amy Winehouse</td>\n",
       "      <td>0.761290</td>\n",
       "      <td>2846</td>\n",
       "    </tr>\n",
       "    <tr>\n",
       "      <th>989</th>\n",
       "      <td>You'd Be So Nice To Come Home To-Julie London</td>\n",
       "      <td>0.737799</td>\n",
       "      <td>1790</td>\n",
       "    </tr>\n",
       "  </tbody>\n",
       "</table>\n",
       "</div>"
      ],
      "text/plain": [
       "                                              song  Correlation  listen_count\n",
       "955                When You Were Young-The Killers     1.000000          5839\n",
       "420                         Is This It-The Strokes     0.912575          2548\n",
       "857                   The Unforgiven III-Metallica     0.905921          1802\n",
       "852                    The Saltwater Room-Owl City     0.853997          1417\n",
       "655                                    Replay-Iyaz     0.827520          1746\n",
       "56                           Apologize-OneRepublic     0.826360          2505\n",
       "96                  Blow Me Away-Breaking Benjamin     0.808063          1416\n",
       "262                                 Flume-Bon Iver     0.787736          1758\n",
       "982             You Know I'm No Good-Amy Winehouse     0.761290          2846\n",
       "989  You'd Be So Nice To Come Home To-Julie London     0.737799          1790"
      ]
     },
     "execution_count": 25,
     "metadata": {},
     "output_type": "execute_result"
    }
   ],
   "source": [
    "# The threshold of 1200 was picked looking at the distrubution of listen_count\n",
    "recs[recs['listen_count'] >1200].sort_values('Correlation',ascending=False).head(10)"
   ]
  }
 ],
 "metadata": {
  "kernelspec": {
   "display_name": "Python 3",
   "language": "python",
   "name": "python3"
  },
  "language_info": {
   "codemirror_mode": {
    "name": "ipython",
    "version": 3
   },
   "file_extension": ".py",
   "mimetype": "text/x-python",
   "name": "python",
   "nbconvert_exporter": "python",
   "pygments_lexer": "ipython3",
   "version": "3.7.1"
  }
 },
 "nbformat": 4,
 "nbformat_minor": 2
}
